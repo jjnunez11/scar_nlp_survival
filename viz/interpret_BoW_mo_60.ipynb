{
 "cells": [
  {
   "cell_type": "code",
   "execution_count": 1,
   "id": "fe216e5a",
   "metadata": {},
   "outputs": [
    {
     "name": "stdout",
     "output_type": "stream",
     "text": [
      "LogisticRegression(C=1, class_weight='balanced', max_iter=1000)\n",
      "[[ 0.28122443 -1.17064924  1.03622785 ... -0.74012256 -0.04658882\n",
      "  -0.00908882]] [0.36989249]\n"
     ]
    }
   ],
   "source": [
    "import os\n",
    "import sys\n",
    "sys.path.insert(0, os.path.abspath('../'))\n",
    "import bz2\n",
    "import pickle\n",
    "import _pickle as cPickle\n",
    "import numpy as np\n",
    "\n",
    "# load Classifier\n",
    "model_name = \"BoW_20220928-2054\"\n",
    "model_path = os.path.join(r\"C:\\Users\\jjnunez\\PycharmProjects\\scar_nlp_survival\\results\\surv_mo_60\\BoW\", model_name + \"_e0.pbz2\")\n",
    "\n",
    "data = bz2.BZ2File(model_path, 'rb')\n",
    "clf = cPickle.load(data)\n",
    "\n",
    "print(clf)\n",
    "print(clf.coef_, clf.intercept_)\n",
    "\n",
    "coefs = clf.coef_[0]\n",
    "\n"
   ]
  },
  {
   "cell_type": "code",
   "execution_count": 2,
   "id": "1b2ee78e",
   "metadata": {},
   "outputs": [
    {
     "name": "stdout",
     "output_type": "stream",
     "text": [
      "5000\n"
     ]
    }
   ],
   "source": [
    "# Load Vectorizer to extract tokens\n",
    "v_path = os.path.join(r\"C:\\Users\\jjnunez\\PycharmProjects\\scar_nlp_data\\data\\surv_mo_60\", \"vectorizer_5000.bz2\")\n",
    "data = bz2.BZ2File(v_path, 'rb')\n",
    "\n",
    "v = cPickle.load(data)  \n",
    "vocab_dict = v.vocabulary_ # dictionary with the tokens as keys, indeces as items\n",
    "idx_dict = dict(map(reversed, vocab_dict.items()))  # dictionary with indeces as keys, tokens as items \n",
    "\n",
    "print(len(idx_dict))\n",
    "\n",
    "\n"
   ]
  },
  {
   "cell_type": "code",
   "execution_count": 3,
   "id": "8514c0c0",
   "metadata": {},
   "outputs": [
    {
     "name": "stdout",
     "output_type": "stream",
     "text": [
      "0.2226792373983421 0.579872387987582 0.17071466057690135 3.8594613616801876\n",
      "[3408 2978 3963 2783 3210 2154 3609 2821 3123 4919]\n",
      "-palliat\n",
      "-metastat\n",
      "+risk\n",
      "-liver\n",
      "+no\n",
      "-glioblastoma\n",
      "-poor\n",
      "-lung\n",
      "+n0\n",
      "+whitehors\n"
     ]
    }
   ],
   "source": [
    "# Find top tokens\n",
    "n =  10\n",
    "\n",
    "abs_coef = np.absolute(coefs)\n",
    "print(f\"{abs_coef[3411]} {abs_coef[2980]} {abs_coef[3962]} {abs_coef[3123]}\")\n",
    "\n",
    "largest_n_idx = abs_coef.argsort()[::-1][:n]\n",
    "\n",
    "print(largest_n_idx)\n",
    "\n",
    "for idx in largest_n_idx:\n",
    "    if coefs[idx] >= 0:\n",
    "        sign = '+'\n",
    "    else:\n",
    "        sign = '-'\n",
    "        \n",
    "    print(sign+ idx_dict[idx])\n"
   ]
  },
  {
   "cell_type": "code",
   "execution_count": null,
   "id": "d187b036",
   "metadata": {},
   "outputs": [],
   "source": []
  }
 ],
 "metadata": {
  "kernelspec": {
   "display_name": "Python 3 (ipykernel)",
   "language": "python",
   "name": "python3"
  },
  "language_info": {
   "codemirror_mode": {
    "name": "ipython",
    "version": 3
   },
   "file_extension": ".py",
   "mimetype": "text/x-python",
   "name": "python",
   "nbconvert_exporter": "python",
   "pygments_lexer": "ipython3",
   "version": "3.9.7"
  }
 },
 "nbformat": 4,
 "nbformat_minor": 5
}
